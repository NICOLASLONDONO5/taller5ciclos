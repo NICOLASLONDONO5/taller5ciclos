{
  "nbformat": 4,
  "nbformat_minor": 0,
  "metadata": {
    "colab": {
      "provenance": [],
      "authorship_tag": "ABX9TyNaLWfwnw3EJ1+LDbzdXUnc",
      "include_colab_link": true
    },
    "kernelspec": {
      "name": "python3",
      "display_name": "Python 3"
    },
    "language_info": {
      "name": "python"
    }
  },
  "cells": [
    {
      "cell_type": "markdown",
      "metadata": {
        "id": "view-in-github",
        "colab_type": "text"
      },
      "source": [
        "<a href=\"https://colab.research.google.com/github/NICOLASLONDONO5/taller5ciclos/blob/main/Untitled12.ipynb\" target=\"_parent\"><img src=\"https://colab.research.google.com/assets/colab-badge.svg\" alt=\"Open In Colab\"/></a>"
      ]
    },
    {
      "cell_type": "markdown",
      "source": [
        "Taller 5 (Ciclos en Python)\n",
        "Nicolas londoño calle- 000501355\n",
        "Angel bolaño chica-"
      ],
      "metadata": {
        "id": "TBYRq-yaOwh0"
      }
    },
    {
      "cell_type": "code",
      "execution_count": 1,
      "metadata": {
        "colab": {
          "base_uri": "https://localhost:8080/"
        },
        "id": "dQnR1IoaOv7D",
        "outputId": "a21a4511-f39c-43c9-9958-1b7a255b64a6"
      },
      "outputs": [
        {
          "output_type": "stream",
          "name": "stdout",
          "text": [
            "Ingrese un número entero positivo: 3\n",
            "1\n",
            "2\n",
            "3\n"
          ]
        }
      ],
      "source": [
        "numero = int(input(\"Ingrese un número entero positivo: \"))\n",
        "\n",
        "\n",
        "if numero <= 0:\n",
        "    print(\"Por favor, ingrese un número entero positivo.\")\n",
        "else:\n",
        "\n",
        "    contador = 1\n",
        "\n",
        "\n",
        "    while contador <= numero:\n",
        "        print(contador)\n",
        "        contador += 1"
      ]
    },
    {
      "cell_type": "code",
      "source": [
        "suma = 0\n",
        "\n",
        "\n",
        "for numero in range(1, 101):\n",
        "\n",
        "    if numero % 2 == 0:\n",
        "        suma += numero\n",
        "\n",
        "\n",
        "print(\"La suma de los números pares del 1 al 100 es:\", suma)"
      ],
      "metadata": {
        "colab": {
          "base_uri": "https://localhost:8080/"
        },
        "id": "WEY4_czWO_ir",
        "outputId": "04b3a83a-495a-48e9-e6a6-2afef9b5caee"
      },
      "execution_count": 2,
      "outputs": [
        {
          "output_type": "stream",
          "name": "stdout",
          "text": [
            "La suma de los números pares del 1 al 100 es: 2550\n"
          ]
        }
      ]
    },
    {
      "cell_type": "code",
      "source": [
        "num_filas = int(input(\"Ingrese el número de filas: \"))\n",
        "\n",
        "\n",
        "for i in range(1, num_filas + 1):\n",
        "\n",
        "    for j in range(1, i + 1):\n",
        "        print(j, end=\"\")\n",
        "\n",
        "    print()"
      ],
      "metadata": {
        "colab": {
          "base_uri": "https://localhost:8080/"
        },
        "id": "kNqv19swPGBM",
        "outputId": "cc97828b-61a1-424b-b733-7c7d5dfbce77"
      },
      "execution_count": 3,
      "outputs": [
        {
          "output_type": "stream",
          "name": "stdout",
          "text": [
            "Ingrese el número de filas: 5\n",
            "1\n",
            "12\n",
            "123\n",
            "1234\n",
            "12345\n"
          ]
        }
      ]
    },
    {
      "cell_type": "code",
      "source": [
        "numero = int(input(\"Ingrese un número entero positivo: \"))\n",
        "\n",
        "\n",
        "if numero <= 1:\n",
        "    print(\"Por favor, ingrese un número entero positivo mayor que 1.\")\n",
        "else:\n",
        "\n",
        "    divisor = 2\n",
        "\n",
        "\n",
        "    es_primo = True\n",
        "\n",
        "    while divisor <= numero // 2:\n",
        "        if numero % divisor == 0:\n",
        "\n",
        "            es_primo = False\n",
        "            break\n",
        "        divisor += 1\n",
        "\n",
        "\n",
        "    if es_primo:\n",
        "        print(numero, \"es un número primo.\")\n",
        "    else:\n",
        "        print(numero, \"no es un número primo.\")"
      ],
      "metadata": {
        "colab": {
          "base_uri": "https://localhost:8080/"
        },
        "id": "aXwsjg3LPK9i",
        "outputId": "912e720f-0cb2-452e-9f4a-16ebbeeef850"
      },
      "execution_count": 4,
      "outputs": [
        {
          "output_type": "stream",
          "name": "stdout",
          "text": [
            "Ingrese un número entero positivo: 4\n",
            "4 no es un número primo.\n"
          ]
        }
      ]
    },
    {
      "cell_type": "code",
      "source": [
        "def suma(a, b):\n",
        "    return a + b\n",
        "\n",
        "def resta(a, b):\n",
        "    return a - b\n",
        "\n",
        "def multiplicacion(a, b):\n",
        "    return a * b\n",
        "\n",
        "\n",
        "def division(a, b):\n",
        "    if b == 0:\n",
        "        return \"Error: No se puede dividir por cero.\"\n",
        "    return a / b\n",
        "\n",
        "\n",
        "while True:\n",
        "\n",
        "    operacion = input(\"Ingrese una operación (suma, resta, multiplicacion, division) o 'salir' para terminar: \")\n",
        "\n",
        "\n",
        "    if operacion.lower() == \"salir\":\n",
        "        break\n",
        "\n",
        "\n",
        "    try:\n",
        "        num1 = float(input(\"Ingrese el primer número: \"))\n",
        "        num2 = float(input(\"Ingrese el segundo número: \"))\n",
        "    except ValueError:\n",
        "        print(\"Por favor, ingrese números válidos.\")\n",
        "        continue\n",
        "\n",
        "\n",
        "    if operacion.lower() == \"suma\":\n",
        "        resultado = suma(num1, num2)\n",
        "    elif operacion.lower() == \"resta\":\n",
        "        resultado = resta(num1, num2)\n",
        "    elif operacion.lower() == \"multiplicacion\":\n",
        "        resultado = multiplicacion(num1, num2)\n",
        "    elif operacion.lower() == \"division\":\n",
        "        resultado = division(num1, num2)\n",
        "    else:\n",
        "        print(\"Operación no válida.\")\n",
        "        continue\n",
        "\n",
        "\n",
        "    print(\"Resultado:\", resultado)\n",
        ""
      ],
      "metadata": {
        "colab": {
          "base_uri": "https://localhost:8080/"
        },
        "id": "JC4ssPFXPizQ",
        "outputId": "0bef1ecc-aba8-42d4-bf59-3972d9dd75be"
      },
      "execution_count": 6,
      "outputs": [
        {
          "name": "stdout",
          "output_type": "stream",
          "text": [
            "Ingrese una operación (suma, resta, multiplicacion, division) o 'salir' para terminar: +\n",
            "Ingrese el primer número: 5\n",
            "Ingrese el segundo número: 6\n",
            "Operación no válida.\n",
            "Ingrese una operación (suma, resta, multiplicacion, division) o 'salir' para terminar: salir\n"
          ]
        }
      ]
    },
    {
      "cell_type": "code",
      "source": [
        "numero = int(input(\"Ingrese un número entero positivo: \"))\n",
        "\n",
        "\n",
        "if numero <= 0:\n",
        "    print(\"Por favor, ingrese un número entero positivo.\")\n",
        "else:\n",
        "\n",
        "    for i in range(numero, 0, -1):\n",
        "        print(i)"
      ],
      "metadata": {
        "colab": {
          "base_uri": "https://localhost:8080/"
        },
        "id": "duaRVqJbQDwD",
        "outputId": "8f5bff4d-b1d8-495b-f662-cfca9ab10724"
      },
      "execution_count": 7,
      "outputs": [
        {
          "output_type": "stream",
          "name": "stdout",
          "text": [
            "Ingrese un número entero positivo: 2\n",
            "2\n",
            "1\n"
          ]
        }
      ]
    },
    {
      "cell_type": "code",
      "source": [
        "n = int(input(\"Ingrese un valor para n: \"))\n",
        "\n",
        "\n",
        "if n <= 0:\n",
        "    print(\"Por favor, ingrese un número entero positivo.\")\n",
        "else:\n",
        "\n",
        "    a, b = 0, 1\n",
        "\n",
        "    print(a, end=\", \")\n",
        "\n",
        "    while b <= n:\n",
        "        print(b, end=\", \")\n",
        "        a, b = b, a + b\n",
        "    print()\n"
      ],
      "metadata": {
        "colab": {
          "base_uri": "https://localhost:8080/"
        },
        "id": "KvVciHKYQJrS",
        "outputId": "78f5e2dc-3d7a-4cb6-e3f6-295553f0b766"
      },
      "execution_count": 8,
      "outputs": [
        {
          "output_type": "stream",
          "name": "stdout",
          "text": [
            "Ingrese un valor para n: 7\n",
            "0, 1, 1, 2, 3, 5, \n"
          ]
        }
      ]
    },
    {
      "cell_type": "code",
      "source": [
        "numero = int(input(\"Ingrese un número entero positivo: \"))\n",
        "\n",
        "\n",
        "if numero <= 0:\n",
        "    print(\"Por favor, ingrese un número entero positivo.\")\n",
        "else:\n",
        "\n",
        "    suma_digitos = 0\n",
        "\n",
        "\n",
        "    while numero > 0:\n",
        "\n",
        "        digito = numero % 10\n",
        "\n",
        "\n",
        "        suma_digitos += digito\n",
        "\n",
        "\n",
        "        numero //= 10\n",
        "\n",
        "\n",
        "    print(\"La suma de los dígitos es:\", suma_digitos)"
      ],
      "metadata": {
        "colab": {
          "base_uri": "https://localhost:8080/"
        },
        "id": "AT02yoIVQQOy",
        "outputId": "84dae4aa-c0ca-4aa7-dc4b-b138c50a05cd"
      },
      "execution_count": 9,
      "outputs": [
        {
          "output_type": "stream",
          "name": "stdout",
          "text": [
            "Ingrese un número entero positivo: 6\n",
            "La suma de los dígitos es: 6\n"
          ]
        }
      ]
    }
  ]
}